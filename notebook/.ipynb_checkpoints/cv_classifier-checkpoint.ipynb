{
 "cells": [
  {
   "cell_type": "code",
   "execution_count": 3,
   "id": "36e0db80-0f61-4c97-a269-4eaba82b4e2e",
   "metadata": {},
   "outputs": [],
   "source": [
    "import PyPDF2\n",
    "import os\n",
    "from os import listdir\n",
    "from os.path import isfile, join\n",
    "from io import StringIO\n",
    "import pandas as pd\n",
    "from collections import Counter\n",
    "import en_core_web_sm\n",
    "nlp = en_core_web_sm.load()\n",
    "from spacy.matcher import PhraseMatcher\n",
    "import pdfplumber\n",
    "import sys, fitz"
   ]
  },
  {
   "cell_type": "markdown",
   "id": "240ffc19-9bbe-4ec5-9395-595ccb1ea40e",
   "metadata": {},
   "source": [
    "#### Function to read resumes from the folder one by one"
   ]
  },
  {
   "cell_type": "code",
   "execution_count": 47,
   "id": "10eed4d2-8fa5-4d18-8a3c-bd03172dbb52",
   "metadata": {},
   "outputs": [],
   "source": [
    "mypath='cvs/' #enter your path here where you saved the resumes\n",
    "onlyfiles = [os.path.join(mypath, f) for f in os.listdir(mypath) if os.path.isfile(os.path.join(mypath, f))]"
   ]
  },
  {
   "cell_type": "code",
   "execution_count": 50,
   "id": "276378ab-dfa3-4275-912c-03d837c550a0",
   "metadata": {},
   "outputs": [
    {
     "name": "stdout",
     "output_type": "stream",
     "text": [
      "cvs/Milano.pdf\n",
      "cvs/Satyajit.pdf\n",
      "cvs/Subhajit_Nayak_CV.pdf\n"
     ]
    }
   ],
   "source": [
    "for i in range(len(onlyfiles)):\n",
    "    print(onlyfiles[i])\n"
   ]
  },
  {
   "cell_type": "markdown",
   "id": "f0babc14-d1a8-461b-85e0-ed261296d59c",
   "metadata": {},
   "source": [
    "## Function to read resume"
   ]
  },
  {
   "cell_type": "code",
   "execution_count": 51,
   "id": "2fe891e9-2f23-4e35-aae1-22c715e579fb",
   "metadata": {},
   "outputs": [],
   "source": [
    "def pdfextract(file):\n",
    "\n",
    "    with fitz.open(file) as pdf:\n",
    "        text=''\n",
    "        for page in pdf:\n",
    "            text+=str(page.getText())\n",
    "    tx=\" \".join(text.split('\\n'))\n",
    "    return tx"
   ]
  },
  {
   "cell_type": "code",
   "execution_count": 52,
   "id": "ed522379-1615-41cb-8221-1b6619f583c7",
   "metadata": {
    "tags": []
   },
   "outputs": [],
   "source": [
    "# def pdfextract(file):\n",
    "#     fileReader = PyPDF2.PdfFileReader(open(file,'rb'))\n",
    "#     countpage = fileReader.getNumPages()\n",
    "#     count = 0\n",
    "#     text = []\n",
    "#     while count < countpage:    \n",
    "#         pageObj = fileReader.getPage(count)\n",
    "#         count +=1\n",
    "#         t = pageObj.extractText()\n",
    "#         print (t)\n",
    "#         text.append(t)\n",
    "#     return text"
   ]
  },
  {
   "cell_type": "code",
   "execution_count": 53,
   "id": "c87e3320-4e2f-4537-ab4d-3b91fa67099d",
   "metadata": {},
   "outputs": [],
   "source": [
    "# def pdfextract(file):\n",
    "    \n",
    "#     with pdfplumber.open(r'cvs/Satyajit.pdf') as pdf:\n",
    "#         text = []\n",
    "#         count=0\n",
    "#     while count < len(pdf.pages):    \n",
    "#         page=pdf.page[count]\n",
    "#         count +=1\n",
    "#         t = page.extract_text()\n",
    "#         print (t)\n",
    "#         text.append(t)\n",
    "#     return text"
   ]
  },
  {
   "cell_type": "code",
   "execution_count": 54,
   "id": "b7ff69be-622a-4d34-a6f7-bb2adaeb98c5",
   "metadata": {},
   "outputs": [],
   "source": [
    "\n",
    "# with pdfplumber.open(r'cvs/Satyajit.pdf') as pdf:\n",
    "#     print(len(pdf.pages))\n",
    "#     first_page = pdf.pages[1]\n",
    "#     print(first_page.extract_text())"
   ]
  },
  {
   "cell_type": "markdown",
   "id": "0094ad68-0d07-4825-a175-b2943119e9db",
   "metadata": {},
   "source": [
    "### function that does phrase matching and builds a candidate profile"
   ]
  },
  {
   "cell_type": "code",
   "execution_count": 55,
   "id": "309c8034-b670-4ec8-8fdc-563b298c2b64",
   "metadata": {},
   "outputs": [],
   "source": [
    "def create_profile(file):\n",
    "    text = pdfextract(file) \n",
    "    \n",
    "    text = str(text)\n",
    "    text = text.replace(\"\\\\n\", \"\")\n",
    "    text = text.lower()\n",
    "    #below is the csv where we have all the keywords, you can customize your own\n",
    "    keyword_dict = pd.read_csv('template/template_new_u.csv')\n",
    "    \n",
    "    stats_words = [nlp(text) for text in keyword_dict['Statistics'].dropna(axis = 0)]\n",
    "    NLP_words = [nlp(text) for text in keyword_dict['NLP'].dropna(axis = 0)]\n",
    "    ML_words = [nlp(text) for text in keyword_dict['Machine Learning'].dropna(axis = 0)]\n",
    "    DL_words = [nlp(text) for text in keyword_dict['Deep Learning'].dropna(axis = 0)]\n",
    "    R_words = [nlp(text) for text in keyword_dict['R Language'].dropna(axis = 0)]\n",
    "    python_words = [nlp(text) for text in keyword_dict['Python Language'].dropna(axis = 0)]\n",
    "    Data_Engineering_words = [nlp(text) for text in keyword_dict['Data Engineering'].dropna(axis = 0)]\n",
    "\n",
    "    matcher = PhraseMatcher(nlp.vocab)\n",
    "    matcher.add('Stats', None, *stats_words)\n",
    "    matcher.add('NLP', None, *NLP_words)\n",
    "    matcher.add('ML', None, *ML_words)\n",
    "    matcher.add('DL', None, *DL_words)\n",
    "    matcher.add('R', None, *R_words)\n",
    "    matcher.add('Python', None, *python_words)\n",
    "    matcher.add('DE', None, *Data_Engineering_words)\n",
    "    print(matcher)\n",
    "    doc = nlp(text)\n",
    "    \n",
    "    d = []  \n",
    "    matches = matcher(doc)\n",
    "    for match_id, start, end in matches:\n",
    "        \n",
    "        rule_id = nlp.vocab.strings[match_id]  # get the unicode ID, i.e. 'COLOR'\n",
    "        span = doc[start : end]  # get the matched slice of the doc\n",
    "        d.append((rule_id, span.text))      \n",
    "    keywords = \"\\n\".join(f'{i[0]} {i[1]} ({j})' for i,j in Counter(d).items())\n",
    "    \n",
    "    ## convertimg string of keywords to dataframe\n",
    "    df = pd.read_csv(StringIO(keywords),names = ['Keywords_List'])\n",
    "    df1 = pd.DataFrame(df.Keywords_List.str.split(' ',1).tolist(),columns = ['Subject','Keyword'])\n",
    "    df2 = pd.DataFrame(df1.Keyword.str.split('(',1).tolist(),columns = ['Keyword', 'Count'])\n",
    "    df3 = pd.concat([df1['Subject'],df2['Keyword'], df2['Count']], axis =1) \n",
    "    df3['Count'] = df3['Count'].apply(lambda x: x.rstrip(\")\"))\n",
    "    \n",
    "    base = os.path.basename(file)\n",
    "    filename = os.path.splitext(base)[0]\n",
    "       \n",
    "    name = filename.split('_')\n",
    "    name2 = name[0]\n",
    "    name2 = name2.lower()\n",
    "    ## converting str to dataframe\n",
    "    name3 = pd.read_csv(StringIO(name2),names = ['Candidate Name'])\n",
    "    \n",
    "    dataf = pd.concat([name3['Candidate Name'], df3['Subject'], df3['Keyword'], df3['Count']], axis = 1)\n",
    "    dataf['Candidate Name'].fillna(dataf['Candidate Name'].iloc[0], inplace = True)\n",
    "\n",
    "    return(dataf)"
   ]
  },
  {
   "cell_type": "markdown",
   "id": "d2b8b3c2-ee8b-4108-a388-1dc0809945b1",
   "metadata": {},
   "source": [
    "#### code to execute/call the above functions\n"
   ]
  },
  {
   "cell_type": "code",
   "execution_count": 56,
   "id": "9dd8535a-6d22-4d14-8909-ee2f02291ef3",
   "metadata": {},
   "outputs": [
    {
     "name": "stdout",
     "output_type": "stream",
     "text": [
      "<spacy.matcher.phrasematcher.PhraseMatcher object at 0x000001EA4E742CF8>\n",
      "  Candidate Name Subject         Keyword Count\n",
      "0         milano      DE  data analysis      1\n",
      "<spacy.matcher.phrasematcher.PhraseMatcher object at 0x000001EA4E742DD8>\n",
      "   Candidate Name Subject              Keyword Count\n",
      "0          milano      DE       data analysis      1\n",
      "0        satyajit      DE         data mining      2\n",
      "1        satyajit      DE       data modeling      2\n",
      "2        satyajit     NLP                 nlp      1\n",
      "3        satyajit      DL       deep learning      2\n",
      "4        satyajit      DE  data visualization      2\n",
      "5        satyajit   Stats         forecasting      5\n",
      "6        satyajit  Python              python      1\n",
      "7        satyajit       R                   r      1\n",
      "8        satyajit      DL          tensorflow      1\n",
      "9        satyajit      DL               keras      1\n",
      "10       satyajit      DE       data analysis      1\n",
      "11       satyajit      DE              apache      1\n",
      "12       satyajit      DE               kafka      1\n",
      "13       satyajit      DE               spark      1\n",
      "14       satyajit      DE               druid      1\n",
      "15       satyajit      DE                 sql      1\n",
      "16       satyajit      DE               nosql      1\n",
      "<spacy.matcher.phrasematcher.PhraseMatcher object at 0x000001EA4E742DD8>\n",
      "   Candidate Name Subject              Keyword Count\n",
      "0          milano      DE       data analysis      1\n",
      "0        satyajit      DE         data mining      2\n",
      "1        satyajit      DE       data modeling      2\n",
      "2        satyajit     NLP                 nlp      1\n",
      "3        satyajit      DL       deep learning      2\n",
      "4        satyajit      DE  data visualization      2\n",
      "5        satyajit   Stats         forecasting      5\n",
      "6        satyajit  Python              python      1\n",
      "7        satyajit       R                   r      1\n",
      "8        satyajit      DL          tensorflow      1\n",
      "9        satyajit      DL               keras      1\n",
      "10       satyajit      DE       data analysis      1\n",
      "11       satyajit      DE              apache      1\n",
      "12       satyajit      DE               kafka      1\n",
      "13       satyajit      DE               spark      1\n",
      "14       satyajit      DE               druid      1\n",
      "15       satyajit      DE                 sql      1\n",
      "16       satyajit      DE               nosql      1\n",
      "0        subhajit      DE         data mining      1\n",
      "1        subhajit     NLP                 nlp      4\n",
      "2        subhajit      DL       deep learning      1\n",
      "3        subhajit      DE  data visualization      2\n",
      "4        subhajit   Stats         probability      1\n",
      "5        subhajit      DE                 sql      6\n",
      "6        subhajit   Stats         forecasting      1\n",
      "7        subhajit      DE       data analysis      1\n",
      "8        subhajit      DE       data modeling      1\n",
      "9        subhajit  Python               numpy      1\n",
      "10       subhajit  Python              pandas      1\n",
      "11       subhajit  Python              python      1\n",
      "12       subhajit       R                   r      1\n",
      "13       subhajit      DL                 rnn      1\n",
      "14       subhajit      DL          tensorflow      1\n",
      "15       subhajit      DL               keras      1\n",
      "16       subhajit      DE                 aws      1\n"
     ]
    }
   ],
   "source": [
    "final_database=pd.DataFrame()\n",
    "i = 0 \n",
    "while i < len(onlyfiles):\n",
    "    file = onlyfiles[i]\n",
    "    \n",
    "    dat = create_profile(file)\n",
    "    final_database = final_database.append(dat)\n",
    "    i +=1\n",
    "    print(final_database)"
   ]
  },
  {
   "cell_type": "markdown",
   "id": "29d767cc-9166-4da2-9b8d-138f1f7cda5a",
   "metadata": {},
   "source": [
    "### code to count words under each category and visulaize it through Matplotlib"
   ]
  },
  {
   "cell_type": "code",
   "execution_count": 57,
   "id": "62ea26fa-58c5-41a3-956a-a6a5b87a79ae",
   "metadata": {},
   "outputs": [
    {
     "data": {
      "image/png": "[encoded data removed]",
      "text/plain": [
       "<Figure size 1800x504 with 1 Axes>"
      ]
     },
     "metadata": {
      "needs_background": "light"
     },
     "output_type": "display_data"
    }
   ],
   "source": [
    "final_database2 = final_database['Keyword'].groupby([final_database['Candidate Name'], final_database['Subject']]).count().unstack()\n",
    "final_database2.reset_index(inplace = True)\n",
    "final_database2.fillna(0,inplace=True)\n",
    "new_data = final_database2.iloc[:,1:]\n",
    "new_data.index = final_database2['Candidate Name']\n",
    "#execute the below line if you want to see the candidate profile in a csv format\n",
    "#sample2=new_data.to_csv('sample.csv')\n",
    "import matplotlib.pyplot as plt\n",
    "plt.rcParams.update({'font.size': 10})\n",
    "ax = new_data.plot.barh(title=\"Resume keywords by category\", legend=False, figsize=(25,7), stacked=True)\n",
    "labels = []\n",
    "for j in new_data.columns:\n",
    "    for i in new_data.index:\n",
    "        label = str(j)+\": \" + str(new_data.loc[i][j])\n",
    "        labels.append(label)\n",
    "patches = ax.patches\n",
    "for label, rect in zip(labels, patches):\n",
    "    width = rect.get_width()\n",
    "    if width > 0:\n",
    "        x = rect.get_x()\n",
    "        y = rect.get_y()\n",
    "        height = rect.get_height()\n",
    "        ax.text(x + width/2., y + height/2., label, ha='center', va='center')\n",
    "plt.show()"
   ]
  },
  {
   "cell_type": "code",
   "execution_count": 59,
   "id": "6f136383-c958-4567-b0b6-e3960d4cba4b",
   "metadata": {},
   "outputs": [
    {
     "data": {
      "text/html": [
       "<div>\n",
       "<style scoped>\n",
       "    .dataframe tbody tr th:only-of-type {\n",
       "        vertical-align: middle;\n",
       "    }\n",
       "\n",
       "    .dataframe tbody tr th {\n",
       "        vertical-align: top;\n",
       "    }\n",
       "\n",
       "    .dataframe thead th {\n",
       "        text-align: right;\n",
       "    }\n",
       "</style>\n",
       "<table border=\"1\" class=\"dataframe\">\n",
       "  <thead>\n",
       "    <tr style=\"text-align: right;\">\n",
       "      <th>Subject</th>\n",
       "      <th>Candidate Name</th>\n",
       "      <th>DE</th>\n",
       "      <th>DL</th>\n",
       "      <th>NLP</th>\n",
       "      <th>Python</th>\n",
       "      <th>R</th>\n",
       "      <th>Stats</th>\n",
       "    </tr>\n",
       "  </thead>\n",
       "  <tbody>\n",
       "    <tr>\n",
       "      <th>0</th>\n",
       "      <td>milano</td>\n",
       "      <td>1.0</td>\n",
       "      <td>0.0</td>\n",
       "      <td>0.0</td>\n",
       "      <td>0.0</td>\n",
       "      <td>0.0</td>\n",
       "      <td>0.0</td>\n",
       "    </tr>\n",
       "    <tr>\n",
       "      <th>1</th>\n",
       "      <td>satyajit</td>\n",
       "      <td>10.0</td>\n",
       "      <td>3.0</td>\n",
       "      <td>1.0</td>\n",
       "      <td>1.0</td>\n",
       "      <td>1.0</td>\n",
       "      <td>1.0</td>\n",
       "    </tr>\n",
       "    <tr>\n",
       "      <th>2</th>\n",
       "      <td>subhajit</td>\n",
       "      <td>6.0</td>\n",
       "      <td>4.0</td>\n",
       "      <td>1.0</td>\n",
       "      <td>3.0</td>\n",
       "      <td>1.0</td>\n",
       "      <td>2.0</td>\n",
       "    </tr>\n",
       "  </tbody>\n",
       "</table>\n",
       "</div>"
      ],
      "text/plain": [
       "Subject Candidate Name    DE   DL  NLP  Python    R  Stats\n",
       "0               milano   1.0  0.0  0.0     0.0  0.0    0.0\n",
       "1             satyajit  10.0  3.0  1.0     1.0  1.0    1.0\n",
       "2             subhajit   6.0  4.0  1.0     3.0  1.0    2.0"
      ]
     },
     "execution_count": 59,
     "metadata": {},
     "output_type": "execute_result"
    }
   ],
   "source": [
    "final_database2.head()"
   ]
  },
  {
   "cell_type": "code",
   "execution_count": 61,
   "id": "425617c5-1b29-4541-a763-72dfb88258e9",
   "metadata": {},
   "outputs": [],
   "source": [
    "if not os.path.exists('short_listing'):\n",
    "    os.makedirs('short_listing')"
   ]
  },
  {
   "cell_type": "code",
   "execution_count": 62,
   "id": "932b69f4-8d29-4cbe-a564-07d95be4a6a5",
   "metadata": {},
   "outputs": [],
   "source": [
    "final_database2.to_csv('short_listing/filtered_candidates.csv')"
   ]
  },
  {
   "cell_type": "code",
   "execution_count": null,
   "id": "4ffa643e-e8a1-4fce-a6b9-fd1495fcda62",
   "metadata": {},
   "outputs": [],
   "source": []
  }
 ],
 "metadata": {
  "kernelspec": {
   "display_name": "Python 3 (ipykernel)",
   "language": "python",
   "name": "python3"
  },
  "language_info": {
   "codemirror_mode": {
    "name": "ipython",
    "version": 3
   },
   "file_extension": ".py",
   "mimetype": "text/x-python",
   "name": "python",
   "nbconvert_exporter": "python",
   "pygments_lexer": "ipython3",
   "version": "3.7.10"
  }
 },
 "nbformat": 4,
 "nbformat_minor": 5
}
